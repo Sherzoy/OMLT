{
 "cells": [
  {
   "cell_type": "code",
   "execution_count": 8,
   "metadata": {},
   "outputs": [],
   "source": [
    "#Start by importing the following libraries\n",
    "#data manipulation and plotting\n",
    "import pandas as pd\n",
    "import numpy as np\n",
    "import matplotlib.pyplot as plt\n",
    "import matplotlib\n",
    "matplotlib.rc('font', size=24)\n",
    "plt.rc('axes', titlesize=24)\n",
    "\n",
    "#tensorflow objects\n",
    "from tensorflow.keras.models import Sequential, Model\n",
    "from tensorflow.keras.layers import Dense, Input, LeakyReLU, PReLU\n",
    "from tensorflow.keras.optimizers import Adam\n",
    "\n",
    "#pyomo for optimization\n",
    "import pyomo.environ as pyo\n",
    "\n",
    "#omlt for interfacing our neural network with pyomo\n",
    "from omlt import OmltBlock\n",
    "from omlt.neuralnet import NetworkDefinition, FullSpaceNNFormulation, \\\n",
    "FullSpaceSmoothNNFormulation, ReducedSpaceSmoothNNFormulation, ReluBigMFormulation,\\\n",
    "ReluComplementarityFormulation, ReluPartitionFormulation\n",
    "from omlt.neuralnet.activations import ComplementarityReLUActivation\n",
    "from omlt.io.keras import keras_reader\n",
    "import omlt\n",
    "from keras.layers import PReLU\n",
    "\n",
    "from tensorflow.keras.models import load_model, Sequential, Model\n",
    "from tensorflow.keras.layers import Dense, Input, LeakyReLU\n",
    "from tensorflow.keras.optimizers import Adam\n",
    "import pandas as pd\n",
    "import numpy as np\n",
    "import matplotlib.pyplot as plt\n",
    "import matplotlib\n",
    "import pyomo.environ as pyo\n",
    "import omlt\n",
    "from omlt import OmltBlock\n",
    "from omlt.neuralnet import *\n",
    "from omlt.neuralnet.activations import ComplementarityReLUActivation\n",
    "from omlt.io.keras import keras_reader"
   ]
  },
  {
   "cell_type": "code",
   "execution_count": 4,
   "metadata": {},
   "outputs": [],
   "source": [
    "alphas = [1.5, 1, 0.5, 0, -0.5, -1, -1.5]\n",
    "leakynets = []\n",
    "\n",
    "for alpha in alphas:\n",
    "    model = Sequential(name=f'leakynet_{alpha}')\n",
    "    model.add(Input(1))\n",
    "    model.add(Dense(1, activation=LeakyReLU(alpha=alpha), kernel_initializer='random_uniform', bias_initializer='random_uniform'))\n",
    "    model.add(Dense(1, kernel_initializer='random_uniform', bias_initializer='random_uniform'))\n",
    "    model.compile(optimizer=Adam(), loss='mse')\n",
    "    leakynets.append(model)\n",
    "\n",
    "alphas = [1.5, 1, 0.5, 0, -0.5, -1, -1.5]\n",
    "prelu_nets = []\n",
    "\n",
    "for alpha in alphas:\n",
    "    model = Sequential(name=f'prelu_net_{alpha}')\n",
    "    model.add(Input(1))\n",
    "    model.add(Dense(1))\n",
    "    model.add(PReLU(alpha_initializer=alpha))\n",
    "    model.add(Dense(1))\n",
    "    model.compile(optimizer=Adam(), loss='mse')\n",
    "    prelu_nets.append(model)\n",
    "\n"
   ]
  },
  {
   "cell_type": "code",
   "execution_count": 12,
   "metadata": {},
   "outputs": [
    {
     "name": "stdout",
     "output_type": "stream",
     "text": [
      "1/1 [==============================] - 0s 16ms/step\n",
      "1/1 [==============================] - 0s 17ms/step\n",
      "1/1 [==============================] - 0s 19ms/step\n",
      "1/1 [==============================] - 0s 19ms/step\n",
      "1/1 [==============================] - 0s 17ms/step\n",
      "1/1 [==============================] - 0s 19ms/step\n",
      "1/1 [==============================] - 0s 17ms/step\n",
      "1/1 [==============================] - 0s 19ms/step\n",
      "1/1 [==============================] - 0s 17ms/step\n",
      "1/1 [==============================] - 0s 18ms/step\n",
      "1/1 [==============================] - 0s 17ms/step\n",
      "1/1 [==============================] - 0s 18ms/step\n",
      "1/1 [==============================] - 0s 21ms/step\n",
      "1/1 [==============================] - 0s 36ms/step\n"
     ]
    }
   ],
   "source": [
    "# Input data\n",
    "inputs = np.array([1, 2, 3, 4, 5])\n",
    "\n",
    "# Create empty dictionary to store outputs\n",
    "outputs_dict = {}\n",
    "\n",
    "# Feed inputs to each neural network and plot their outputs\n",
    "for model in leakynets:\n",
    "    outputs = model.predict(inputs)\n",
    "    outputs_dict[model.name] = outputs.flatten()\n",
    "\n",
    "for model in prelu_nets:\n",
    "    outputs = model.predict(inputs)\n",
    "    outputs_dict[model.name] = outputs.flatten()"
   ]
  },
  {
   "cell_type": "code",
   "execution_count": 10,
   "metadata": {},
   "outputs": [],
   "source": [
    "# function to evaluate a point on the neuralnet using OMLT\n",
    "def OMLTcheck(net, inputs, outputs):\n",
    "    # Create a dictionary with the field names and corresponding arrays\n",
    "    data = {'x': inputs, 'y': outputs.flatten()}\n",
    "\n",
    "    # Create a DataFrame from the dictionary\n",
    "    df = pd.DataFrame(data)\n",
    "\n",
    "    #retrieve input 'x' and output 'y' from the dataframe\n",
    "    x = df[\"x\"]\n",
    "    y = df[\"y\"]\n",
    "\n",
    "    mean_data = df.mean(axis=0)\n",
    "    std_data = df.std(axis=0)\n",
    "    df[\"x_scaled\"] = (df['x'] - mean_data['x']) / std_data['x']\n",
    "    df[\"y_scaled\"] = (df['y'] - mean_data['y']) / std_data['y']\n",
    "\n",
    "    y_predict_scaled_para = net.predict(x=df['x_scaled'])\n",
    "    y_predict_para = y_predict_scaled_para*(std_data['y']) + mean_data['y']\n",
    "\n",
    "    #create a single plot with the original data and each neural network's predictions\n",
    "    fig,ax = plt.subplots(1,figsize = (8,8))\n",
    "    ax.plot(x,y,linewidth = 3.0,label = \"data\", alpha = 0.5)\n",
    "    ax.plot(x,y_predict_para,linewidth = 3.0,linestyle=\"dotted\",label = \"parametric-relu\")\n",
    "    plt.xlabel(\"x\")\n",
    "    plt.ylabel(\"y\")\n",
    "    plt.legend()\n",
    "\n",
    "    #create an omlt scaling object\n",
    "    scaler = omlt.scaling.OffsetScaling(offset_inputs=[mean_data['x']],\n",
    "                        factor_inputs=[std_data['x']],\n",
    "                        offset_outputs=[mean_data['y']],\n",
    "                        factor_outputs=[std_data['y']])\n",
    "    \n",
    "    #create the input bounds. note that the key `0` corresponds to input `0` and that we also scale the input bounds\n",
    "    input_bounds={0:((min(df['x']) - mean_data['x'])/std_data['x'],\n",
    "                    (max(df['x']) - mean_data['x'])/std_data['x'])};\n",
    "    print(scaler)\n",
    "    print(\"Scaled input bounds: \",input_bounds)\n",
    "\n",
    "    net_relu_para = keras_reader.load_keras_sequential(net,scaler,input_bounds)\n",
    "\n",
    "    model5_bigm = pyo.ConcreteModel()\n",
    "    model5_bigm.x = pyo.Var(initialize = 0)\n",
    "    model5_bigm.y = pyo.Var(initialize = 0)\n",
    "    model5_bigm.obj = pyo.Objective(expr=(model5_bigm.y))\n",
    "    model5_bigm.nn = OmltBlock()\n",
    "\n",
    "    formulation5_bigm = ReluBigMFormulation(net_relu_para)\n",
    "    model5_bigm.nn.build_formulation(formulation5_bigm)\n",
    "\n",
    "    @model5_bigm.Constraint()\n",
    "    def connect_inputs(mdl):\n",
    "        return mdl.x == mdl.nn.inputs[0]\n",
    "\n",
    "    @model5_bigm.Constraint()\n",
    "    def connect_outputs(mdl):\n",
    "        return mdl.y == mdl.nn.outputs[0]\n",
    "\n",
    "    #model5_bigm.nn.layers['139763200661440'].c1.deactivate()\n",
    "    status_5_bigm = pyo.SolverFactory('gams:cbc').solve(model5_bigm, tee=True)\n",
    "    model5_bigm.pprint()\n",
    "    solution_5_bigm = (pyo.value(model5_bigm.x),pyo.value(model5_bigm.y))\n",
    "\n",
    "    #print out model size and solution values\n",
    "    print(\"ReLU BigM Solution:\")\n",
    "    print(\"# of variables: \",model5_bigm.nvariables())\n",
    "    print(\"# of constraints: \",model5_bigm.nconstraints())\n",
    "    print(\"x = \", solution_5_bigm[0])\n",
    "    print(\"y = \", solution_5_bigm[1])\n",
    "\n",
    "    #net - parametric relu \n",
    "    plt.plot(x,y_predict_para,linewidth = 3.0,linestyle=\"dotted\",color = \"green\")\n",
    "    plt.title(\"parametric-relu\")\n",
    "    plt.scatter([solution_5_bigm[0]],[solution_5_bigm[1]],color = \"blue\",s = 300, label=\"bigm\")\n",
    "    plt.legend()\n",
    "    plt.show()\n",
    "    plt.close()\n"
   ]
  },
  {
   "cell_type": "code",
   "execution_count": 13,
   "metadata": {},
   "outputs": [
    {
     "name": "stdout",
     "output_type": "stream",
     "text": [
      "1/1 [==============================] - 0s 37ms/step\n"
     ]
    },
    {
     "ename": "NameError",
     "evalue": "name 'x' is not defined",
     "output_type": "error",
     "traceback": [
      "\u001b[0;31m---------------------------------------------------------------------------\u001b[0m",
      "\u001b[0;31mNameError\u001b[0m                                 Traceback (most recent call last)",
      "Cell \u001b[0;32mIn[13], line 1\u001b[0m\n\u001b[0;32m----> 1\u001b[0m OMLTcheck(prelu_nets[\u001b[39m0\u001b[39;49m],inputs,outputs_dict[\u001b[39m'\u001b[39;49m\u001b[39mleakynet_1.5\u001b[39;49m\u001b[39m'\u001b[39;49m])\n",
      "Cell \u001b[0;32mIn[10], line 19\u001b[0m, in \u001b[0;36mOMLTcheck\u001b[0;34m(net, inputs, outputs)\u001b[0m\n\u001b[1;32m     17\u001b[0m \u001b[39m#create a single plot with the original data and each neural network's predictions\u001b[39;00m\n\u001b[1;32m     18\u001b[0m fig,ax \u001b[39m=\u001b[39m plt\u001b[39m.\u001b[39msubplots(\u001b[39m1\u001b[39m,figsize \u001b[39m=\u001b[39m (\u001b[39m8\u001b[39m,\u001b[39m8\u001b[39m))\n\u001b[0;32m---> 19\u001b[0m ax\u001b[39m.\u001b[39mplot(x,y,linewidth \u001b[39m=\u001b[39m \u001b[39m3.0\u001b[39m,label \u001b[39m=\u001b[39m \u001b[39m\"\u001b[39m\u001b[39mdata\u001b[39m\u001b[39m\"\u001b[39m, alpha \u001b[39m=\u001b[39m \u001b[39m0.5\u001b[39m)\n\u001b[1;32m     20\u001b[0m ax\u001b[39m.\u001b[39mplot(x,y_predict_para,linewidth \u001b[39m=\u001b[39m \u001b[39m3.0\u001b[39m,linestyle\u001b[39m=\u001b[39m\u001b[39m\"\u001b[39m\u001b[39mdotted\u001b[39m\u001b[39m\"\u001b[39m,label \u001b[39m=\u001b[39m \u001b[39m\"\u001b[39m\u001b[39mparametric-relu\u001b[39m\u001b[39m\"\u001b[39m)\n\u001b[1;32m     21\u001b[0m plt\u001b[39m.\u001b[39mxlabel(\u001b[39m\"\u001b[39m\u001b[39mx\u001b[39m\u001b[39m\"\u001b[39m)\n",
      "\u001b[0;31mNameError\u001b[0m: name 'x' is not defined"
     ]
    },
    {
     "data": {
      "image/png": "[encoded data removed]",
      "text/plain": [
       "<Figure size 800x800 with 1 Axes>"
      ]
     },
     "metadata": {},
     "output_type": "display_data"
    }
   ],
   "source": [
    "OMLTcheck(prelu_nets[0],inputs,outputs_dict['leakynet_1.5'])"
   ]
  }
 ],
 "metadata": {
  "kernelspec": {
   "display_name": "Python 3",
   "language": "python",
   "name": "python3"
  },
  "language_info": {
   "codemirror_mode": {
    "name": "ipython",
    "version": 3
   },
   "file_extension": ".py",
   "mimetype": "text/x-python",
   "name": "python",
   "nbconvert_exporter": "python",
   "pygments_lexer": "ipython3",
   "version": "3.8.10"
  },
  "orig_nbformat": 4
 },
 "nbformat": 4,
 "nbformat_minor": 2
}
