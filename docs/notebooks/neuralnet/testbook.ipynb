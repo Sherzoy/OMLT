{
 "cells": [
  {
   "cell_type": "code",
   "execution_count": 2,
   "metadata": {},
   "outputs": [
    {
     "name": "stderr",
     "output_type": "stream",
     "text": [
      "2023-06-13 15:34:59.376426: I tensorflow/core/platform/cpu_feature_guard.cc:193] This TensorFlow binary is optimized with oneAPI Deep Neural Network Library (oneDNN) to use the following CPU instructions in performance-critical operations:  AVX2 AVX512F AVX512_VNNI FMA\n",
      "To enable them in other operations, rebuild TensorFlow with the appropriate compiler flags.\n",
      "2023-06-13 15:34:59.505580: I tensorflow/core/util/port.cc:104] oneDNN custom operations are on. You may see slightly different numerical results due to floating-point round-off errors from different computation orders. To turn them off, set the environment variable `TF_ENABLE_ONEDNN_OPTS=0`.\n",
      "2023-06-13 15:34:59.508430: W tensorflow/compiler/xla/stream_executor/platform/default/dso_loader.cc:64] Could not load dynamic library 'libcudart.so.11.0'; dlerror: libcudart.so.11.0: cannot open shared object file: No such file or directory\n",
      "2023-06-13 15:34:59.508446: I tensorflow/compiler/xla/stream_executor/cuda/cudart_stub.cc:29] Ignore above cudart dlerror if you do not have a GPU set up on your machine.\n",
      "2023-06-13 15:35:00.098733: W tensorflow/compiler/xla/stream_executor/platform/default/dso_loader.cc:64] Could not load dynamic library 'libnvinfer.so.7'; dlerror: libnvinfer.so.7: cannot open shared object file: No such file or directory\n",
      "2023-06-13 15:35:00.098777: W tensorflow/compiler/xla/stream_executor/platform/default/dso_loader.cc:64] Could not load dynamic library 'libnvinfer_plugin.so.7'; dlerror: libnvinfer_plugin.so.7: cannot open shared object file: No such file or directory\n",
      "2023-06-13 15:35:00.098781: W tensorflow/compiler/tf2tensorrt/utils/py_utils.cc:38] TF-TRT Warning: Cannot dlopen some TensorRT libraries. If you would like to use Nvidia GPU with TensorRT, please make sure the missing libraries mentioned above are installed properly.\n",
      "/usr/lib/python3/dist-packages/requests/__init__.py:89: RequestsDependencyWarning: urllib3 (1.26.15) or chardet (5.1.0) doesn't match a supported version!\n",
      "  warnings.warn(\"urllib3 ({}) or chardet ({}) doesn't match a supported \"\n"
     ]
    }
   ],
   "source": [
    "#Start by importing the following libraries\n",
    "#data manipulation and plotting\n",
    "import pandas as pd\n",
    "import numpy as np\n",
    "import matplotlib.pyplot as plt\n",
    "import matplotlib\n",
    "matplotlib.rc('font', size=24)\n",
    "plt.rc('axes', titlesize=24)\n",
    "\n",
    "#tensorflow objects\n",
    "from tensorflow.keras.models import Sequential, Model\n",
    "from tensorflow.keras.layers import Dense, Input, LeakyReLU, PReLU\n",
    "from tensorflow.keras.optimizers import Adam\n",
    "\n",
    "#pyomo for optimization\n",
    "import pyomo.environ as pyo\n",
    "\n",
    "#omlt for interfacing our neural network with pyomo\n",
    "from omlt import OmltBlock\n",
    "from omlt.neuralnet import NetworkDefinition, FullSpaceNNFormulation, \\\n",
    "FullSpaceSmoothNNFormulation, ReducedSpaceSmoothNNFormulation, ReluBigMFormulation,\\\n",
    "ReluComplementarityFormulation, ReluPartitionFormulation\n",
    "from omlt.neuralnet.activations import ComplementarityReLUActivation\n",
    "from omlt.io.keras import keras_reader\n",
    "import omlt\n",
    "from keras.layers import PReLU\n",
    "\n",
    "from tensorflow.keras.models import load_model, Sequential, Model\n",
    "from tensorflow.keras.layers import Dense, Input, LeakyReLU\n",
    "from tensorflow.keras.optimizers import Adam\n",
    "import pandas as pd\n",
    "import numpy as np\n",
    "import matplotlib.pyplot as plt\n",
    "import matplotlib\n",
    "import pyomo.environ as pyo\n",
    "import omlt\n",
    "from omlt import OmltBlock\n",
    "from omlt.neuralnet import *\n",
    "from omlt.neuralnet.activations import ComplementarityReLUActivation\n",
    "from omlt.io.keras import keras_reader\n",
    "from tensorflow.keras import initializers"
   ]
  },
  {
   "cell_type": "code",
   "execution_count": 3,
   "metadata": {},
   "outputs": [
    {
     "name": "stderr",
     "output_type": "stream",
     "text": [
      "2023-06-13 15:35:04.652251: E tensorflow/compiler/xla/stream_executor/cuda/cuda_driver.cc:267] failed call to cuInit: CUDA_ERROR_NO_DEVICE: no CUDA-capable device is detected\n",
      "2023-06-13 15:35:04.652291: I tensorflow/compiler/xla/stream_executor/cuda/cuda_diagnostics.cc:156] kernel driver does not appear to be running on this host (sherzoy-IdeaPad-5-14ITL05): /proc/driver/nvidia/version does not exist\n",
      "2023-06-13 15:35:04.652741: I tensorflow/core/platform/cpu_feature_guard.cc:193] This TensorFlow binary is optimized with oneAPI Deep Neural Network Library (oneDNN) to use the following CPU instructions in performance-critical operations:  AVX2 AVX512F AVX512_VNNI FMA\n",
      "To enable them in other operations, rebuild TensorFlow with the appropriate compiler flags.\n"
     ]
    }
   ],
   "source": [
    "alphas = [1.5, 1, 0.5, 0, -0.5, -1, -1.5]\n",
    "leakynets = []\n",
    "\n",
    "for alpha in alphas:\n",
    "    model = Sequential(name=f'leakynet_{alpha}')\n",
    "    model.add(Input(1))\n",
    "    model.add(Dense(1, activation=LeakyReLU(alpha=alpha), kernel_initializer='random_uniform', bias_initializer='random_uniform'))\n",
    "    model.add(Dense(1, kernel_initializer='random_uniform', bias_initializer='random_uniform'))\n",
    "    model.compile(optimizer=Adam(), loss='mse')\n",
    "    leakynets.append(model)\n",
    "\n",
    "alphas = [1.5, 1, 0.5, 0, -0.5, -1, -1.5]\n",
    "prelu_nets = []\n",
    "\n",
    "for alpha in alphas:\n",
    "    model = Sequential(name=f'prelu_net_{alpha}')\n",
    "    model.add(Input(1))\n",
    "    alpha_initializer = initializers.Constant(value=alpha)\n",
    "    model.add(Dense(1, activation=PReLU(alpha_initializer=alpha_initializer, weights=None), kernel_initializer='random_uniform', bias_initializer='random_uniform'))\n",
    "    model.add(Dense(1))\n",
    "    model.compile(optimizer=Adam(), loss='mse')\n",
    "    prelu_nets.append(model)"
   ]
  },
  {
   "cell_type": "code",
   "execution_count": 4,
   "metadata": {},
   "outputs": [
    {
     "name": "stdout",
     "output_type": "stream",
     "text": [
      "1/1 [==============================] - 0s 103ms/step\n",
      "1/1 [==============================] - 0s 35ms/step\n",
      "1/1 [==============================] - 0s 34ms/step\n",
      "1/1 [==============================] - 0s 38ms/step\n",
      "WARNING:tensorflow:5 out of the last 5 calls to <function Model.make_predict_function.<locals>.predict_function at 0x7fe8192f1280> triggered tf.function retracing. Tracing is expensive and the excessive number of tracings could be due to (1) creating @tf.function repeatedly in a loop, (2) passing tensors with different shapes, (3) passing Python objects instead of tensors. For (1), please define your @tf.function outside of the loop. For (2), @tf.function has reduce_retracing=True option that can avoid unnecessary retracing. For (3), please refer to https://www.tensorflow.org/guide/function#controlling_retracing and https://www.tensorflow.org/api_docs/python/tf/function for  more details.\n",
      "1/1 [==============================] - 0s 35ms/step\n",
      "WARNING:tensorflow:6 out of the last 6 calls to <function Model.make_predict_function.<locals>.predict_function at 0x7fe8192f1e50> triggered tf.function retracing. Tracing is expensive and the excessive number of tracings could be due to (1) creating @tf.function repeatedly in a loop, (2) passing tensors with different shapes, (3) passing Python objects instead of tensors. For (1), please define your @tf.function outside of the loop. For (2), @tf.function has reduce_retracing=True option that can avoid unnecessary retracing. For (3), please refer to https://www.tensorflow.org/guide/function#controlling_retracing and https://www.tensorflow.org/api_docs/python/tf/function for  more details.\n",
      "1/1 [==============================] - 0s 40ms/step\n",
      "1/1 [==============================] - 0s 52ms/step\n",
      "1/1 [==============================] - 0s 44ms/step\n",
      "1/1 [==============================] - 0s 43ms/step\n",
      "1/1 [==============================] - 0s 39ms/step\n",
      "1/1 [==============================] - 0s 40ms/step\n",
      "1/1 [==============================] - 0s 39ms/step\n",
      "1/1 [==============================] - 0s 37ms/step\n",
      "1/1 [==============================] - 0s 38ms/step\n"
     ]
    }
   ],
   "source": [
    "# Input data\n",
    "inputs = np.array([1, 2, 3, 4, 5])\n",
    "\n",
    "# Create empty arrays to store outputs\n",
    "leaky_outputs = []\n",
    "prelu_outputs = []\n",
    "\n",
    "# Feed inputs to each neural network and store their outputs\n",
    "for model in leakynets:\n",
    "    outputs = model.predict(inputs)\n",
    "    leaky_outputs.append(outputs.flatten())\n",
    "\n",
    "for model in prelu_nets:\n",
    "    outputs = model.predict(inputs)\n",
    "    prelu_outputs.append(outputs.flatten())"
   ]
  },
  {
   "cell_type": "code",
   "execution_count": 5,
   "metadata": {},
   "outputs": [
    {
     "name": "stdout",
     "output_type": "stream",
     "text": [
      "1/1 [==============================] - 0s 17ms/step\n",
      "[[0.01349554]\n",
      " [0.03928937]\n",
      " [0.0650832 ]\n",
      " [0.09087702]\n",
      " [0.11667085]]\n"
     ]
    }
   ],
   "source": [
    "print(prelu_nets[1].predict(x=inputs))"
   ]
  },
  {
   "cell_type": "code",
   "execution_count": 14,
   "metadata": {},
   "outputs": [
    {
     "name": "stdout",
     "output_type": "stream",
     "text": [
      "1/1 [==============================] - 0s 38ms/step\n",
      "{0: (1.0, 5.0)}\n",
      "WARNING (W1002): Setting Var 'nn.scaled_inputs[0]' to a numeric value `0`\n",
      "    outside the bounds (1.0, 5.0).\n",
      "    See also https://pyomo.readthedocs.io/en/stable/errors.html#w1002\n",
      "WARNING (W1002): Setting Var 'nn.scaled_inputs[0]' to a numeric value `0`\n",
      "    outside the bounds (1.0, 5.0).\n",
      "    See also https://pyomo.readthedocs.io/en/stable/errors.html#w1002\n",
      "[<InputLayer(input_size=[1], output_size=[1]) at 0x7fe7b0552f10>, <DenseLayer(input_size=[1], output_size=[1]) at 0x7fe7b05522e0>, <DenseLayer(input_size=[1], output_size=[1]) at 0x7fe8189d9a90>]\n",
      "0 -0.039587294682860374 -0.09941080771386623 nn.layer[140633072542432].zhat[0] nn.layer[140633072542432].qb[0] -1.5\n",
      "ERROR: Rule failed when generating expression for Constraint\n",
      "    nn.layer[140634822122128].dense_layer with index 0:\n",
      "    InfeasibleConstraintException: Variable has a lower bound which is larger\n",
      "    than its upper bound: nn.layer[140633072542432].z[0]\n",
      "ERROR: Constructing component 'nn.layer[140634822122128].dense_layer' from\n",
      "    data=None failed: InfeasibleConstraintException: Variable has a lower\n",
      "    bound which is larger than its upper bound: nn.layer[140633072542432].z[0]\n"
     ]
    },
    {
     "ename": "InfeasibleConstraintException",
     "evalue": "Variable has a lower bound which is larger than its upper bound: nn.layer[140633072542432].z[0]",
     "output_type": "error",
     "traceback": [
      "\u001b[0;31m---------------------------------------------------------------------------\u001b[0m",
      "\u001b[0;31mInfeasibleConstraintException\u001b[0m             Traceback (most recent call last)",
      "Cell \u001b[0;32mIn[14], line 64\u001b[0m\n\u001b[1;32m     61\u001b[0m     plt\u001b[39m.\u001b[39mclose()\n\u001b[1;32m     63\u001b[0m n \u001b[39m=\u001b[39m \u001b[39m6\u001b[39m\n\u001b[0;32m---> 64\u001b[0m OMLTcheck(prelu_nets[n],inputs,prelu_outputs[n])\n\u001b[1;32m     66\u001b[0m \u001b[39m# OMLTcheck(leakynets[n],inputs,leaky_outputs[n])\u001b[39;00m\n\u001b[1;32m     67\u001b[0m \u001b[39m#(0,5)\u001b[39;00m\n",
      "Cell \u001b[0;32mIn[14], line 36\u001b[0m, in \u001b[0;36mOMLTcheck\u001b[0;34m(net, inputs, outputs)\u001b[0m\n\u001b[1;32m     33\u001b[0m model_bigm\u001b[39m.\u001b[39mnn \u001b[39m=\u001b[39m OmltBlock()\n\u001b[1;32m     35\u001b[0m formulation_bigm \u001b[39m=\u001b[39m ReluBigMFormulation(net_relu)\n\u001b[0;32m---> 36\u001b[0m model_bigm\u001b[39m.\u001b[39;49mnn\u001b[39m.\u001b[39;49mbuild_formulation(formulation_bigm)\n\u001b[1;32m     38\u001b[0m \u001b[39m@model_bigm\u001b[39m\u001b[39m.\u001b[39mConstraint()\n\u001b[1;32m     39\u001b[0m \u001b[39mdef\u001b[39;00m \u001b[39mconnect_inputs\u001b[39m(mdl):\n\u001b[1;32m     40\u001b[0m     \u001b[39mreturn\u001b[39;00m mdl\u001b[39m.\u001b[39mx \u001b[39m==\u001b[39m mdl\u001b[39m.\u001b[39mnn\u001b[39m.\u001b[39minputs[\u001b[39m0\u001b[39m]\n",
      "File \u001b[0;32m~/Files/JS2/JSReseach/activations/OMLT/src/omlt/block.py:89\u001b[0m, in \u001b[0;36mOmltBlockData.build_formulation\u001b[0;34m(self, formulation)\u001b[0m\n\u001b[1;32m     86\u001b[0m \u001b[39mself\u001b[39m\u001b[39m.\u001b[39m__formulation\u001b[39m.\u001b[39m_set_block(\u001b[39mself\u001b[39m)\n\u001b[1;32m     88\u001b[0m \u001b[39m# tell the formulation object to construct the necessary models\u001b[39;00m\n\u001b[0;32m---> 89\u001b[0m \u001b[39mself\u001b[39;49m\u001b[39m.\u001b[39;49m__formulation\u001b[39m.\u001b[39;49m_build_formulation()\n",
      "File \u001b[0;32m~/Files/JS2/JSReseach/activations/OMLT/src/omlt/neuralnet/nn_formulation.py:117\u001b[0m, in \u001b[0;36mFullSpaceNNFormulation._build_formulation\u001b[0;34m(self)\u001b[0m\n\u001b[1;32m    112\u001b[0m \u001b[39mdef\u001b[39;00m \u001b[39m_build_formulation\u001b[39m(\u001b[39mself\u001b[39m):\n\u001b[1;32m    113\u001b[0m     _setup_scaled_inputs_outputs(\n\u001b[1;32m    114\u001b[0m         \u001b[39mself\u001b[39m\u001b[39m.\u001b[39mblock, \u001b[39mself\u001b[39m\u001b[39m.\u001b[39m__scaling_object, \u001b[39mself\u001b[39m\u001b[39m.\u001b[39m__scaled_input_bounds\n\u001b[1;32m    115\u001b[0m     )\n\u001b[0;32m--> 117\u001b[0m     _build_neural_network_formulation(\n\u001b[1;32m    118\u001b[0m         block\u001b[39m=\u001b[39;49m\u001b[39mself\u001b[39;49m\u001b[39m.\u001b[39;49mblock,\n\u001b[1;32m    119\u001b[0m         network_structure\u001b[39m=\u001b[39;49m\u001b[39mself\u001b[39;49m\u001b[39m.\u001b[39;49m__network_definition,\n\u001b[1;32m    120\u001b[0m         layer_constraints\u001b[39m=\u001b[39;49m\u001b[39mself\u001b[39;49m\u001b[39m.\u001b[39;49m_layer_constraints,\n\u001b[1;32m    121\u001b[0m         activation_constraints\u001b[39m=\u001b[39;49m\u001b[39mself\u001b[39;49m\u001b[39m.\u001b[39;49m_activation_constraints,\n\u001b[1;32m    122\u001b[0m     )\n",
      "File \u001b[0;32m~/Files/JS2/JSReseach/activations/OMLT/src/omlt/neuralnet/nn_formulation.py:197\u001b[0m, in \u001b[0;36m_build_neural_network_formulation\u001b[0;34m(block, network_structure, layer_constraints, activation_constraints)\u001b[0m\n\u001b[1;32m    191\u001b[0m \u001b[39mif\u001b[39;00m layer_constraints_func \u001b[39mis\u001b[39;00m \u001b[39mNone\u001b[39;00m:\n\u001b[1;32m    192\u001b[0m     \u001b[39mraise\u001b[39;00m \u001b[39mValueError\u001b[39;00m(\n\u001b[1;32m    193\u001b[0m         \u001b[39m\"\u001b[39m\u001b[39mLayer type \u001b[39m\u001b[39m{}\u001b[39;00m\u001b[39m is not supported by this formulation.\u001b[39m\u001b[39m\"\u001b[39m\u001b[39m.\u001b[39mformat(\n\u001b[1;32m    194\u001b[0m             \u001b[39mtype\u001b[39m(layer)\n\u001b[1;32m    195\u001b[0m         )\n\u001b[1;32m    196\u001b[0m     )\n\u001b[0;32m--> 197\u001b[0m layer_constraints_func(block, net, layer_block, layer)\n\u001b[1;32m    199\u001b[0m activation_constraints_func \u001b[39m=\u001b[39m activation_constraints\u001b[39m.\u001b[39mget(layer\u001b[39m.\u001b[39mactivation, \u001b[39mNone\u001b[39;00m)\n\u001b[1;32m    200\u001b[0m \u001b[39mif\u001b[39;00m activation_constraints_func \u001b[39mis\u001b[39;00m \u001b[39mNone\u001b[39;00m:\n",
      "File \u001b[0;32m~/Files/JS2/JSReseach/activations/OMLT/src/omlt/neuralnet/layers/full_space.py:25\u001b[0m, in \u001b[0;36mfull_space_dense_layer\u001b[0;34m(net_block, net, layer_block, layer)\u001b[0m\n\u001b[1;32m     12\u001b[0m \u001b[39m\u001b[39m\u001b[39mr\u001b[39m\u001b[39m\"\"\"\u001b[39;00m\n\u001b[1;32m     13\u001b[0m \u001b[39mAdd full-space formulation of the dense layer to the block\u001b[39;00m\n\u001b[1;32m     14\u001b[0m \n\u001b[0;32m   (...)\u001b[0m\n\u001b[1;32m     20\u001b[0m \n\u001b[1;32m     21\u001b[0m \u001b[39m\"\"\"\u001b[39;00m\n\u001b[1;32m     22\u001b[0m input_layer, input_layer_block \u001b[39m=\u001b[39m _input_layer_and_block(net_block, net, layer)\n\u001b[1;32m     24\u001b[0m \u001b[39m@layer_block\u001b[39;49m\u001b[39m.\u001b[39;49mConstraint(layer\u001b[39m.\u001b[39;49moutput_indexes)\n\u001b[0;32m---> 25\u001b[0m \u001b[39mdef\u001b[39;49;00m \u001b[39mdense_layer\u001b[39;49m(b, \u001b[39m*\u001b[39;49moutput_index):\n\u001b[1;32m     26\u001b[0m     \u001b[39m# dense layers multiply only the last dimension of\u001b[39;49;00m\n\u001b[1;32m     27\u001b[0m     \u001b[39m# their inputs\u001b[39;49;00m\n\u001b[1;32m     28\u001b[0m     expr \u001b[39m=\u001b[39;49m \u001b[39m0.0\u001b[39;49m\n\u001b[1;32m     29\u001b[0m     \u001b[39mfor\u001b[39;49;00m local_index, input_index \u001b[39min\u001b[39;49;00m layer\u001b[39m.\u001b[39;49minput_indexes_with_input_layer_indexes:\n",
      "File \u001b[0;32m~/.local/lib/python3.8/site-packages/pyomo/core/base/block.py:75\u001b[0m, in \u001b[0;36m_generic_component_decorator.__call__\u001b[0;34m(self, rule)\u001b[0m\n\u001b[1;32m     74\u001b[0m \u001b[39mdef\u001b[39;00m \u001b[39m__call__\u001b[39m(\u001b[39mself\u001b[39m, rule):\n\u001b[0;32m---> 75\u001b[0m     \u001b[39msetattr\u001b[39;49m(\n\u001b[1;32m     76\u001b[0m         \u001b[39mself\u001b[39;49m\u001b[39m.\u001b[39;49m_block,\n\u001b[1;32m     77\u001b[0m         rule\u001b[39m.\u001b[39;49m\u001b[39m__name__\u001b[39;49m,\n\u001b[1;32m     78\u001b[0m         \u001b[39mself\u001b[39;49m\u001b[39m.\u001b[39;49m_component(\u001b[39m*\u001b[39;49m\u001b[39mself\u001b[39;49m\u001b[39m.\u001b[39;49m_args, rule\u001b[39m=\u001b[39;49mrule, \u001b[39m*\u001b[39;49m\u001b[39m*\u001b[39;49m(\u001b[39mself\u001b[39;49m\u001b[39m.\u001b[39;49m_kwds))\n\u001b[1;32m     79\u001b[0m     )\n\u001b[1;32m     80\u001b[0m     \u001b[39mreturn\u001b[39;00m rule\n",
      "File \u001b[0;32m~/.local/lib/python3.8/site-packages/pyomo/core/base/block.py:649\u001b[0m, in \u001b[0;36m_BlockData.__setattr__\u001b[0;34m(self, name, val)\u001b[0m\n\u001b[1;32m    644\u001b[0m \u001b[39mif\u001b[39;00m name \u001b[39mnot\u001b[39;00m \u001b[39min\u001b[39;00m \u001b[39mself\u001b[39m\u001b[39m.\u001b[39m\u001b[39m__dict__\u001b[39m:\n\u001b[1;32m    645\u001b[0m     \u001b[39mif\u001b[39;00m \u001b[39misinstance\u001b[39m(val, Component):\n\u001b[1;32m    646\u001b[0m         \u001b[39m#\u001b[39;00m\n\u001b[1;32m    647\u001b[0m         \u001b[39m# Pyomo components are added with the add_component method.\u001b[39;00m\n\u001b[1;32m    648\u001b[0m         \u001b[39m#\u001b[39;00m\n\u001b[0;32m--> 649\u001b[0m         \u001b[39mself\u001b[39;49m\u001b[39m.\u001b[39;49madd_component(name, val)\n\u001b[1;32m    650\u001b[0m     \u001b[39melse\u001b[39;00m:\n\u001b[1;32m    651\u001b[0m         \u001b[39m#\u001b[39;00m\n\u001b[1;32m    652\u001b[0m         \u001b[39m# Other Python objects are added with the standard __setattr__\u001b[39;00m\n\u001b[1;32m    653\u001b[0m         \u001b[39m# method.\u001b[39;00m\n\u001b[1;32m    654\u001b[0m         \u001b[39m#\u001b[39;00m\n\u001b[1;32m    655\u001b[0m         \u001b[39msuper\u001b[39m(_BlockData, \u001b[39mself\u001b[39m)\u001b[39m.\u001b[39m\u001b[39m__setattr__\u001b[39m(name, val)\n",
      "File \u001b[0;32m~/.local/lib/python3.8/site-packages/pyomo/core/base/block.py:1219\u001b[0m, in \u001b[0;36m_BlockData.add_component\u001b[0;34m(self, name, val)\u001b[0m\n\u001b[1;32m   1215\u001b[0m     logger\u001b[39m.\u001b[39mdebug(\u001b[39m\"\u001b[39m\u001b[39mConstructing \u001b[39m\u001b[39m%s\u001b[39;00m\u001b[39m \u001b[39m\u001b[39m'\u001b[39m\u001b[39m%s\u001b[39;00m\u001b[39m'\u001b[39m\u001b[39m on \u001b[39m\u001b[39m%s\u001b[39;00m\u001b[39m from data=\u001b[39m\u001b[39m%s\u001b[39;00m\u001b[39m\"\u001b[39m,\n\u001b[1;32m   1216\u001b[0m                  val\u001b[39m.\u001b[39m\u001b[39m__class__\u001b[39m\u001b[39m.\u001b[39m\u001b[39m__name__\u001b[39m, name,\n\u001b[1;32m   1217\u001b[0m                  _blockName, \u001b[39mstr\u001b[39m(data))\n\u001b[1;32m   1218\u001b[0m \u001b[39mtry\u001b[39;00m:\n\u001b[0;32m-> 1219\u001b[0m     val\u001b[39m.\u001b[39;49mconstruct(data)\n\u001b[1;32m   1220\u001b[0m \u001b[39mexcept\u001b[39;00m:\n\u001b[1;32m   1221\u001b[0m     err \u001b[39m=\u001b[39m sys\u001b[39m.\u001b[39mexc_info()[\u001b[39m1\u001b[39m]\n",
      "File \u001b[0;32m~/.local/lib/python3.8/site-packages/pyomo/core/base/constraint.py:763\u001b[0m, in \u001b[0;36mConstraint.construct\u001b[0;34m(self, data)\u001b[0m\n\u001b[1;32m    760\u001b[0m     \u001b[39melse\u001b[39;00m:\n\u001b[1;32m    761\u001b[0m         \u001b[39m# Bypass the index validation and create the member directly\u001b[39;00m\n\u001b[1;32m    762\u001b[0m         \u001b[39mfor\u001b[39;00m index \u001b[39min\u001b[39;00m \u001b[39mself\u001b[39m\u001b[39m.\u001b[39mindex_set():\n\u001b[0;32m--> 763\u001b[0m             \u001b[39mself\u001b[39m\u001b[39m.\u001b[39m_setitem_when_not_present(index, rule(block, index))\n\u001b[1;32m    764\u001b[0m \u001b[39mexcept\u001b[39;00m \u001b[39mException\u001b[39;00m:\n\u001b[1;32m    765\u001b[0m     err \u001b[39m=\u001b[39m sys\u001b[39m.\u001b[39mexc_info()[\u001b[39m1\u001b[39m]\n",
      "File \u001b[0;32m~/.local/lib/python3.8/site-packages/pyomo/core/base/initializer.py:304\u001b[0m, in \u001b[0;36mIndexedCallInitializer.__call__\u001b[0;34m(self, parent, idx)\u001b[0m\n\u001b[1;32m    302\u001b[0m     \u001b[39mreturn\u001b[39;00m \u001b[39mself\u001b[39m\u001b[39m.\u001b[39m_fcn(parent, \u001b[39m*\u001b[39midx)\n\u001b[1;32m    303\u001b[0m \u001b[39melse\u001b[39;00m:\n\u001b[0;32m--> 304\u001b[0m     \u001b[39mreturn\u001b[39;00m \u001b[39mself\u001b[39;49m\u001b[39m.\u001b[39;49m_fcn(parent, idx)\n",
      "File \u001b[0;32m~/Files/JS2/JSReseach/activations/OMLT/src/omlt/neuralnet/layers/full_space.py:35\u001b[0m, in \u001b[0;36mfull_space_dense_layer.<locals>.dense_layer\u001b[0;34m(b, *output_index)\u001b[0m\n\u001b[1;32m     32\u001b[0m \u001b[39m# move this at the end to avoid numpy/pyomo var bug\u001b[39;00m\n\u001b[1;32m     33\u001b[0m expr \u001b[39m+\u001b[39m\u001b[39m=\u001b[39m layer\u001b[39m.\u001b[39mbiases[output_index[\u001b[39m-\u001b[39m\u001b[39m1\u001b[39m]]\n\u001b[0;32m---> 35\u001b[0m lb, ub \u001b[39m=\u001b[39m compute_bounds_on_expr(expr)\n\u001b[1;32m     37\u001b[0m layer_block\u001b[39m.\u001b[39mzhat[output_index]\u001b[39m.\u001b[39msetlb(lb)\n\u001b[1;32m     38\u001b[0m layer_block\u001b[39m.\u001b[39mzhat[output_index]\u001b[39m.\u001b[39msetub(ub)\n",
      "File \u001b[0;32m~/.local/lib/python3.8/site-packages/pyomo/contrib/fbbt/fbbt.py:1538\u001b[0m, in \u001b[0;36mcompute_bounds_on_expr\u001b[0;34m(expr, ignore_fixed)\u001b[0m\n\u001b[1;32m   1536\u001b[0m bnds_dict \u001b[39m=\u001b[39m ComponentMap()\n\u001b[1;32m   1537\u001b[0m visitor \u001b[39m=\u001b[39m _FBBTVisitorLeafToRoot(bnds_dict, ignore_fixed\u001b[39m=\u001b[39mignore_fixed)\n\u001b[0;32m-> 1538\u001b[0m visitor\u001b[39m.\u001b[39;49mdfs_postorder_stack(expr)\n\u001b[1;32m   1539\u001b[0m lb, ub \u001b[39m=\u001b[39m bnds_dict[expr]\n\u001b[1;32m   1540\u001b[0m \u001b[39mif\u001b[39;00m lb \u001b[39m==\u001b[39m \u001b[39m-\u001b[39minterval\u001b[39m.\u001b[39minf:\n",
      "File \u001b[0;32m~/.local/lib/python3.8/site-packages/pyomo/core/expr/visitor.py:880\u001b[0m, in \u001b[0;36mExpressionValueVisitor.dfs_postorder_stack\u001b[0;34m(self, node)\u001b[0m\n\u001b[1;32m    878\u001b[0m _sub \u001b[39m=\u001b[39m _argList[_idx]\n\u001b[1;32m    879\u001b[0m _idx \u001b[39m+\u001b[39m\u001b[39m=\u001b[39m \u001b[39m1\u001b[39m\n\u001b[0;32m--> 880\u001b[0m flag, value \u001b[39m=\u001b[39m \u001b[39mself\u001b[39;49m\u001b[39m.\u001b[39;49mvisiting_potential_leaf(_sub)\n\u001b[1;32m    881\u001b[0m \u001b[39mif\u001b[39;00m flag:\n\u001b[1;32m    882\u001b[0m     _result\u001b[39m.\u001b[39mappend( value )\n",
      "File \u001b[0;32m~/.local/lib/python3.8/site-packages/pyomo/contrib/fbbt/fbbt.py:1127\u001b[0m, in \u001b[0;36m_FBBTVisitorLeafToRoot.visiting_potential_leaf\u001b[0;34m(self, node)\u001b[0m\n\u001b[1;32m   1125\u001b[0m         ub \u001b[39m=\u001b[39m interval\u001b[39m.\u001b[39minf\n\u001b[1;32m   1126\u001b[0m     \u001b[39mif\u001b[39;00m lb \u001b[39m-\u001b[39m \u001b[39mself\u001b[39m\u001b[39m.\u001b[39mfeasibility_tol \u001b[39m>\u001b[39m ub:\n\u001b[0;32m-> 1127\u001b[0m         \u001b[39mraise\u001b[39;00m InfeasibleConstraintException(\u001b[39m'\u001b[39m\u001b[39mVariable has a lower bound which is larger than its upper bound: \u001b[39m\u001b[39m{0}\u001b[39;00m\u001b[39m'\u001b[39m\u001b[39m.\u001b[39mformat(\u001b[39mstr\u001b[39m(node)))\n\u001b[1;32m   1128\u001b[0m \u001b[39mself\u001b[39m\u001b[39m.\u001b[39mbnds_dict[node] \u001b[39m=\u001b[39m (lb, ub)\n\u001b[1;32m   1129\u001b[0m \u001b[39mreturn\u001b[39;00m \u001b[39mTrue\u001b[39;00m, \u001b[39mNone\u001b[39;00m\n",
      "\u001b[0;31mInfeasibleConstraintException\u001b[0m: Variable has a lower bound which is larger than its upper bound: nn.layer[140633072542432].z[0]"
     ]
    },
    {
     "data": {
      "image/png": "[encoded data removed]",
      "text/plain": [
       "<Figure size 800x800 with 1 Axes>"
      ]
     },
     "metadata": {},
     "output_type": "display_data"
    }
   ],
   "source": [
    "# function to evaluate a point on the neuralnet using OMLT\n",
    "def OMLTcheck(net, inputs, outputs):\n",
    "\n",
    "    # Create a dictionary with the field names and corresponding arrays\n",
    "    data = {'x': inputs, 'y': outputs.flatten()}\n",
    "\n",
    "    # Create a DataFrame from the dictionary\n",
    "    df = pd.DataFrame(data)\n",
    "\n",
    "    #retrieve input 'x' and output 'y' from the dataframe\n",
    "    x = df[\"x\"]\n",
    "    y = df[\"y\"]\n",
    "\n",
    "    y_predict = net.predict(x=df['x'])\n",
    "\n",
    "    #create a single plot with the original data and each neural network's predictions\n",
    "    fig,ax = plt.subplots(1,figsize = (8,8))\n",
    "    ax.plot(x, y_predict, linestyle='', marker='o', color='green', label='net/data outputs')\n",
    "    plt.xlabel(\"x\")\n",
    "    plt.ylabel(\"y\")\n",
    "    plt.legend()\n",
    "\n",
    "    #create the input bounds. note that the key `0` corresponds to input `0` and that we also scale the input bounds\n",
    "    input_bounds={0:((min(df['x']) - 0)/1,\n",
    "                 (max(df['x']) - 0)/1)}\n",
    "    print(input_bounds)\n",
    "    net_relu = keras_reader.load_keras_sequential(net, unscaled_input_bounds=input_bounds)\n",
    "\n",
    "    model_bigm = pyo.ConcreteModel()\n",
    "    model_bigm.x = pyo.Var(initialize =0)\n",
    "    model_bigm.y = pyo.Var(initialize = 0)\n",
    "    model_bigm.obj = pyo.Objective(expr=(model_bigm.y))\n",
    "    model_bigm.nn = OmltBlock()\n",
    "\n",
    "    formulation_bigm = ReluBigMFormulation(net_relu)\n",
    "    model_bigm.nn.build_formulation(formulation_bigm)\n",
    "\n",
    "    @model_bigm.Constraint()\n",
    "    def connect_inputs(mdl):\n",
    "        return mdl.x == mdl.nn.inputs[0]\n",
    "\n",
    "    @model_bigm.Constraint()\n",
    "    def connect_outputs(mdl):\n",
    "        return mdl.y == mdl.nn.outputs[0]\n",
    "\n",
    "    status_bigm = pyo.SolverFactory('gams:cbc').solve(model_bigm, tee=True)\n",
    "    solution_bigm = (pyo.value(model_bigm.x),pyo.value(model_bigm.y))\n",
    "\n",
    "    #print out model size and solution values\n",
    "    print(\"ReLU BigM Solution:\")\n",
    "    print(\"# of variables: \",model_bigm.nvariables())\n",
    "    print(\"# of constraints: \",model_bigm.nconstraints())\n",
    "    print(\"x = \", solution_bigm[0])\n",
    "    print(\"y = \", solution_bigm[1])\n",
    "\n",
    "    #net - parametric relu \n",
    "    plt.title(\"OMLT vs Keras values\")\n",
    "    plt.scatter([solution_bigm[0]],[solution_bigm[1]],color = \"blue\",s = 300, label=\"OMLT sol\")\n",
    "    plt.legend()\n",
    "    plt.show()\n",
    "    plt.close()\n",
    "\n",
    "n = 6\n",
    "OMLTcheck(prelu_nets[n],inputs,prelu_outputs[n])\n",
    "\n",
    "# OMLTcheck(leakynets[n],inputs,leaky_outputs[n])\n",
    "#(0,5)\n"
   ]
  },
  {
   "cell_type": "code",
   "execution_count": 7,
   "metadata": {},
   "outputs": [],
   "source": [
    "#OMLTcheck(prelu_nets[0],inputs,prelu_outputs[0])"
   ]
  }
 ],
 "metadata": {
  "kernelspec": {
   "display_name": "Python 3",
   "language": "python",
   "name": "python3"
  },
  "language_info": {
   "codemirror_mode": {
    "name": "ipython",
    "version": 3
   },
   "file_extension": ".py",
   "mimetype": "text/x-python",
   "name": "python",
   "nbconvert_exporter": "python",
   "pygments_lexer": "ipython3",
   "version": "3.8.10"
  },
  "orig_nbformat": 4
 },
 "nbformat": 4,
 "nbformat_minor": 2
}
