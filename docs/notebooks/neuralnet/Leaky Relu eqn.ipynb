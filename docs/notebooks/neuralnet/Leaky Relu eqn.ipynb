{
 "cells": [
  {
   "cell_type": "markdown",
   "id": "649ffd00",
   "metadata": {},
   "source": [
    "\\begin{align*}\n",
    "        z_i &\\geq 0.01\\hat{z_i} \\\\\n",
    "        z_i &\\geq \\hat{z_i} \\\\\n",
    "        z_i &\\leq \\hat{z_i}-L(1-\\sigma) \\\\\n",
    "        z_i &\\leq 0.01\\hat{z_i}+U\\sigma \\\\\n",
    "        \\hat{z_i} &\\leq U\\sigma \\\\\n",
    "        \\hat{z_i} &\\geq L(1-\\sigma)\\\\\n",
    "        \\sigma &\\in \\{0, 1\\}\n",
    "        \\end{align*}"
   ]
  },
  {
   "attachments": {},
   "cell_type": "markdown",
   "id": "0712bf6e",
   "metadata": {},
   "source": [
    "\\begin{align*}\n",
    "        \\hat z_i &= \\sum_{j{=}1}^{M_i} w_{ij} z_j + b_i  && \\forall i \\in N\n",
    "        \\end{align*}"
   ]
  },
  {
   "cell_type": "markdown",
   "id": "609f87bb",
   "metadata": {},
   "source": [
    "\\begin{align*}\n",
    "        z_i &= \\text{max}(0.01\\hat{z_i}, \\hat{z_i}) && \\forall i \\in N\n",
    "        \\end{align*}"
   ]
  }
 ],
 "metadata": {
  "kernelspec": {
   "display_name": "Python 3 (ipykernel)",
   "language": "python",
   "name": "python3"
  },
  "language_info": {
   "codemirror_mode": {
    "name": "ipython",
    "version": 3
   },
   "file_extension": ".py",
   "mimetype": "text/x-python",
   "name": "python",
   "nbconvert_exporter": "python",
   "pygments_lexer": "ipython3",
   "version": "3.8.10"
  }
 },
 "nbformat": 4,
 "nbformat_minor": 5
}
